{
 "cells": [
  {
   "cell_type": "code",
   "execution_count": 176,
   "id": "fd1f51b4",
   "metadata": {},
   "outputs": [
    {
     "name": "stdout",
     "output_type": "stream",
     "text": [
      "Requirement already satisfied: pulp in c:\\users\\aveli\\anaconda3\\lib\\site-packages\\pulp-2.7.0-py3.11.egg (2.7.0)\n"
     ]
    },
    {
     "name": "stderr",
     "output_type": "stream",
     "text": [
      "DEPRECATION: Loading egg at c:\\users\\aveli\\anaconda3\\lib\\site-packages\\pulp-2.7.0-py3.11.egg is deprecated. pip 23.3 will enforce this behaviour change. A possible replacement is to use pip for package installation..\n"
     ]
    },
    {
     "name": "stdout",
     "output_type": "stream",
     "text": [
      "Requirement already satisfied: gurobipy in c:\\users\\aveli\\anaconda3\\lib\\site-packages (11.0.0)\n"
     ]
    },
    {
     "name": "stderr",
     "output_type": "stream",
     "text": [
      "DEPRECATION: Loading egg at c:\\users\\aveli\\anaconda3\\lib\\site-packages\\pulp-2.7.0-py3.11.egg is deprecated. pip 23.3 will enforce this behaviour change. A possible replacement is to use pip for package installation..\n"
     ]
    }
   ],
   "source": [
    "!pip install pulp\n",
    "!pip install gurobipy"
   ]
  },
  {
   "cell_type": "code",
   "execution_count": 177,
   "id": "b1bdfbc4",
   "metadata": {},
   "outputs": [],
   "source": [
    "import pandas as pd"
   ]
  },
  {
   "cell_type": "code",
   "execution_count": 178,
   "id": "fad99d39",
   "metadata": {
    "scrolled": false
   },
   "outputs": [],
   "source": [
    "import pulp\n",
    "from pulp import LpMaximize,LpMinimize, LpProblem, LpVariable, lpSum, LpStatus, value, GUROBI"
   ]
  },
  {
   "cell_type": "markdown",
   "id": "259d8fa2",
   "metadata": {},
   "source": [
    "# MAINTENANCE RULES"
   ]
  },
  {
   "cell_type": "code",
   "execution_count": 179,
   "id": "79592331",
   "metadata": {},
   "outputs": [],
   "source": [
    "# Triggered by IRI --> adjust to requirements\n",
    "\n",
    "  # Rules\n",
    "    #(1) IRI <= 4 --> routine maintenance\n",
    "    #(2) 4 < IRI <= 6 --> periodical maintenance\n",
    "    #(3) 6 < IRI <= 8 --> rehab, if no budget --> holding\n",
    "    #(4) IRI >8 --> reconstruction, if no budget --> holding"
   ]
  },
  {
   "cell_type": "markdown",
   "id": "9fe12e44",
   "metadata": {},
   "source": [
    "# DATA IMPORT"
   ]
  },
  {
   "cell_type": "markdown",
   "id": "a33768c9",
   "metadata": {},
   "source": [
    "## I. Supporting data"
   ]
  },
  {
   "cell_type": "markdown",
   "id": "8d9a3f15",
   "metadata": {},
   "source": [
    "### 1. Unit price"
   ]
  },
  {
   "cell_type": "code",
   "execution_count": 180,
   "id": "01b957ae",
   "metadata": {},
   "outputs": [],
   "source": [
    "# Unit price --> adjust to requirements\n",
    "unit_price = {'routine': 100, 'periodical': 200, 'holding': 300, 'rehab': 600, 'reconstruction': 1000}"
   ]
  },
  {
   "cell_type": "markdown",
   "id": "e263c5b3",
   "metadata": {},
   "source": [
    "### 2. Deterioration rate"
   ]
  },
  {
   "cell_type": "code",
   "execution_count": 181,
   "id": "2430a9f9",
   "metadata": {},
   "outputs": [],
   "source": [
    "# Deterioration equation [f(IRI)], where IRI is existing IRI --> adjust to requirements\n",
    "\n",
    "  # Conditions\n",
    "    #(1) f(1)=0.2\n",
    "    #(2) f(8)=0.7\n",
    "    #(3) f(>8)=0.7"
   ]
  },
  {
   "cell_type": "code",
   "execution_count": 182,
   "id": "c028d1d1",
   "metadata": {},
   "outputs": [],
   "source": [
    "def Next_IRI(IRI):\n",
    "    if 1 <= IRI <= 8:\n",
    "        return IRI + 0.5/7*IRI - 0.5/7 + 0.2\n",
    "    elif 8 < IRI:\n",
    "        return IRI + 0.7"
   ]
  },
  {
   "cell_type": "markdown",
   "id": "ab782390",
   "metadata": {},
   "source": [
    "## II. FWP data"
   ]
  },
  {
   "cell_type": "code",
   "execution_count": 183,
   "id": "c6a1c4c0",
   "metadata": {
    "scrolled": false
   },
   "outputs": [],
   "source": [
    "# Define file location\n",
    "fp1 = 'D:/01. Work related/RENSTRA/Python test/Data/01 ACEH.xlsx'\n",
    "fp2 = 'D:/01. Work related/RENSTRA/Python test/Data/28 JATIM.xlsx'\n",
    "fp3 = 'D:/01. Work related/RENSTRA/Python test/Data/16 BABEL.xlsx'\n",
    "sheet = 'FWP Data'"
   ]
  },
  {
   "cell_type": "code",
   "execution_count": 184,
   "id": "1d392d4f",
   "metadata": {},
   "outputs": [],
   "source": [
    "# Read the data into a DataFrame\n",
    "df1 = pd.read_excel(fp1, sheet_name=sheet)\n",
    "df2 = pd.read_excel(fp2, sheet_name=sheet)\n",
    "df3 = pd.read_excel(fp3, sheet_name=sheet)"
   ]
  },
  {
   "cell_type": "code",
   "execution_count": 185,
   "id": "d90dbf8c",
   "metadata": {},
   "outputs": [],
   "source": [
    "# Combine all dataframes\n",
    "df_fwp = pd.concat([df1, df2, df3], axis=0, ignore_index=True)"
   ]
  },
  {
   "cell_type": "markdown",
   "id": "e5dd8465",
   "metadata": {},
   "source": [
    "# DATA PREPROCESSING"
   ]
  },
  {
   "cell_type": "markdown",
   "id": "93a24224",
   "metadata": {},
   "source": [
    "## Add prov number"
   ]
  },
  {
   "cell_type": "code",
   "execution_count": 186,
   "id": "c1b7eab5",
   "metadata": {},
   "outputs": [],
   "source": [
    "# Rules\n",
    "def get_prov(section_id):\n",
    "    if len(str(section_id)) == 6:\n",
    "        return str(section_id)[:1]\n",
    "    elif len(str(section_id)) == 7:\n",
    "        return str(section_id)[:2]\n",
    "    else:\n",
    "        return None"
   ]
  },
  {
   "cell_type": "code",
   "execution_count": 187,
   "id": "fc3089f5",
   "metadata": {},
   "outputs": [],
   "source": [
    "# Create 'prov' column\n",
    "df_fwp['prov'] = df_fwp['sectionID'].apply(lambda x: get_prov(x))"
   ]
  },
  {
   "cell_type": "markdown",
   "id": "65fdd57f",
   "metadata": {},
   "source": [
    "## Transform IRI (lane/segment) into IRI_Avg (segment)"
   ]
  },
  {
   "cell_type": "code",
   "execution_count": 188,
   "id": "82534e74",
   "metadata": {},
   "outputs": [],
   "source": [
    "# Create a new DF in segment unit\n",
    "df_segment = df_fwp.groupby(['prov','sectionID', 'locFrom', 'locTo'], as_index=False)['info_IRIAvg'].mean()"
   ]
  },
  {
   "cell_type": "markdown",
   "id": "4782d688",
   "metadata": {},
   "source": [
    "### Assign IRI class"
   ]
  },
  {
   "cell_type": "code",
   "execution_count": 189,
   "id": "b65cee4b",
   "metadata": {},
   "outputs": [],
   "source": [
    "# Rules\n",
    "def Class(value):\n",
    "    if value <= 4:\n",
    "        return 'Good'\n",
    "    elif 4 < value <= 6:\n",
    "        return 'Fair'\n",
    "    elif 6 < value <= 8:\n",
    "        return 'Poor'\n",
    "    else:\n",
    "        return 'Very poor'"
   ]
  },
  {
   "cell_type": "code",
   "execution_count": 190,
   "id": "ec587fb5",
   "metadata": {},
   "outputs": [],
   "source": [
    "# Create 'Class' column\n",
    "df_segment['class'] = df_segment['info_IRIAvg'].apply(Class)"
   ]
  },
  {
   "cell_type": "markdown",
   "id": "44665c87",
   "metadata": {},
   "source": [
    "## Add STA length"
   ]
  },
  {
   "cell_type": "code",
   "execution_count": 191,
   "id": "09f8e90c",
   "metadata": {},
   "outputs": [],
   "source": [
    "# Create 'STA length' column\n",
    "df_segment['length'] = df_segment['locTo'] - df_segment['locFrom']"
   ]
  },
  {
   "cell_type": "markdown",
   "id": "dc7c480e",
   "metadata": {},
   "source": [
    "# MAINTENANCE ALLOCATION"
   ]
  },
  {
   "cell_type": "markdown",
   "id": "c0813e06",
   "metadata": {},
   "source": [
    "## I. Assign possible budget allocation"
   ]
  },
  {
   "cell_type": "code",
   "execution_count": 192,
   "id": "ce6c82ce",
   "metadata": {},
   "outputs": [],
   "source": [
    "# Create possible budget colums\n",
    "\n",
    "df_segment['do_nothing'] = df_segment.apply(lambda x: x['length'] * unit_price['routine'], axis=1) #all routine\n",
    "df_segment['routine'] = df_segment.apply(lambda x: x['length'] * unit_price['routine'] \\\n",
    "                                         if x['class'] == 'Good' else 0, axis=1)\n",
    "df_segment['periodical'] = df_segment.apply(lambda x: x['length'] * unit_price['periodical'] \\\n",
    "                                            if x['class'] == 'Fair' else 0, axis=1)\n",
    "df_segment['holding'] = df_segment.apply(lambda x: x['length'] * unit_price['holding'] \\\n",
    "                                         if x['class'] in ['Poor', 'Very poor'] else 0, axis=1)\n",
    "df_segment['rehab'] = df_segment.apply(lambda x: x['length'] * unit_price['rehab'] \\\n",
    "                                       if x['class'] == 'Poor' else 0, axis=1)\n",
    "df_segment['reconstruction'] = df_segment.apply(lambda x: x['length'] * unit_price['reconstruction'] \\\n",
    "                                                if x['class'] == 'Very poor' else 0, axis=1)"
   ]
  },
  {
   "cell_type": "markdown",
   "id": "71275bdd",
   "metadata": {},
   "source": [
    "## II. Calculate total budget for each case"
   ]
  },
  {
   "cell_type": "markdown",
   "id": "a0ea7802",
   "metadata": {},
   "source": [
    "### Case 1: Do nothing (routine only)"
   ]
  },
  {
   "cell_type": "code",
   "execution_count": 193,
   "id": "c6084fed",
   "metadata": {},
   "outputs": [],
   "source": [
    "df_segment['option1'] = df_segment['do_nothing']"
   ]
  },
  {
   "cell_type": "markdown",
   "id": "6051ad6d",
   "metadata": {},
   "source": [
    "### Case 2: Minimun (hold)"
   ]
  },
  {
   "cell_type": "code",
   "execution_count": 194,
   "id": "be5dd1fd",
   "metadata": {},
   "outputs": [],
   "source": [
    "df_segment['option2'] = df_segment['routine'] + df_segment['periodical'] + \\\n",
    "                        df_segment['holding']"
   ]
  },
  {
   "cell_type": "markdown",
   "id": "70676ed9",
   "metadata": {},
   "source": [
    "### Case 3: Unconstrained"
   ]
  },
  {
   "cell_type": "code",
   "execution_count": 195,
   "id": "24968792",
   "metadata": {},
   "outputs": [],
   "source": [
    "df_segment['option3'] = df_segment['routine'] + df_segment['periodical'] + \\\n",
    "                        df_segment['rehab'] + df_segment['reconstruction']"
   ]
  },
  {
   "cell_type": "markdown",
   "id": "523147a1",
   "metadata": {},
   "source": [
    "## III. Calculate next_IRI for each case"
   ]
  },
  {
   "cell_type": "markdown",
   "id": "de87bd02",
   "metadata": {},
   "source": [
    "### Case 0: Existing"
   ]
  },
  {
   "cell_type": "code",
   "execution_count": 196,
   "id": "17b13023",
   "metadata": {},
   "outputs": [],
   "source": [
    "# Create weighted_IRI column\n",
    "df_segment['weighted_IRI0'] = df_segment['info_IRIAvg']*df_segment['length']"
   ]
  },
  {
   "cell_type": "markdown",
   "id": "e9cae8ba",
   "metadata": {},
   "source": [
    "### Case 1: Do nothing"
   ]
  },
  {
   "cell_type": "code",
   "execution_count": 197,
   "id": "1a3183c0",
   "metadata": {},
   "outputs": [],
   "source": [
    "# Deterioration formula\n",
    "def next_option1(IRI):\n",
    "    if 1 <= IRI <= 8: #do nothing\n",
    "        return IRI + 0.5/7*IRI - 0.5/7 + 0.2\n",
    "    elif 8 < IRI: #do nothing\n",
    "        return IRI + 0.7"
   ]
  },
  {
   "cell_type": "code",
   "execution_count": 198,
   "id": "466f89e0",
   "metadata": {},
   "outputs": [],
   "source": [
    "# Create Next_IRI column\n",
    "df_segment['option1_IRI'] = df_segment['info_IRIAvg'].map(next_option1)"
   ]
  },
  {
   "cell_type": "code",
   "execution_count": 199,
   "id": "527feeb3",
   "metadata": {},
   "outputs": [],
   "source": [
    "# Create weighted_IRI column\n",
    "df_segment['weighted_IRI1'] = df_segment['option1_IRI']*df_segment['length']"
   ]
  },
  {
   "cell_type": "markdown",
   "id": "d5d7b54e",
   "metadata": {},
   "source": [
    "### Case 2: Minimum"
   ]
  },
  {
   "cell_type": "code",
   "execution_count": 200,
   "id": "f1bca4c3",
   "metadata": {},
   "outputs": [],
   "source": [
    "# Deterioration formula\n",
    "def next_option2(IRI):\n",
    "    if 1 <= IRI <= 4: #routine\n",
    "        return IRI + 0.5/7*IRI - 0.5/7 + 0.2\n",
    "    elif 4 < IRI <=6: #periodical\n",
    "        return 4\n",
    "    elif 6 < IRI: #holding\n",
    "        return IRI"
   ]
  },
  {
   "cell_type": "code",
   "execution_count": 201,
   "id": "cc87bd04",
   "metadata": {},
   "outputs": [],
   "source": [
    "# Create Next_IRI column\n",
    "df_segment['option2_IRI'] = df_segment['info_IRIAvg'].map(next_option2)"
   ]
  },
  {
   "cell_type": "code",
   "execution_count": 202,
   "id": "6a4a8f57",
   "metadata": {},
   "outputs": [],
   "source": [
    "# Create weighted_IRI column\n",
    "df_segment['weighted_IRI2'] = df_segment['option2_IRI']*df_segment['length']"
   ]
  },
  {
   "cell_type": "markdown",
   "id": "634be5a9",
   "metadata": {},
   "source": [
    "### Case 3: Unconstrained"
   ]
  },
  {
   "cell_type": "code",
   "execution_count": 203,
   "id": "bbba2f8b",
   "metadata": {},
   "outputs": [],
   "source": [
    "# Deterioration formula\n",
    "def next_option3(IRI):\n",
    "    if 1 <= IRI <= 4: #routine\n",
    "        return IRI + 0.5/7*IRI - 0.5/7 + 0.2\n",
    "    elif 4 < IRI <=6: #periodical\n",
    "        return 4\n",
    "    elif 6 < IRI: #rehab and reconstruction\n",
    "        return 3"
   ]
  },
  {
   "cell_type": "code",
   "execution_count": 204,
   "id": "db253ad0",
   "metadata": {},
   "outputs": [],
   "source": [
    "# Create Next_IRI column\n",
    "df_segment['option3_IRI'] = df_segment['info_IRIAvg'].map(next_option3)"
   ]
  },
  {
   "cell_type": "code",
   "execution_count": 205,
   "id": "9f278d75",
   "metadata": {},
   "outputs": [],
   "source": [
    "# Create weighted_IRI column\n",
    "df_segment['weighted_IRI3'] = df_segment['option3_IRI']*df_segment['length']"
   ]
  },
  {
   "cell_type": "code",
   "execution_count": 206,
   "id": "f70cb01b",
   "metadata": {},
   "outputs": [
    {
     "data": {
      "text/html": [
       "<div>\n",
       "<style scoped>\n",
       "    .dataframe tbody tr th:only-of-type {\n",
       "        vertical-align: middle;\n",
       "    }\n",
       "\n",
       "    .dataframe tbody tr th {\n",
       "        vertical-align: top;\n",
       "    }\n",
       "\n",
       "    .dataframe thead th {\n",
       "        text-align: right;\n",
       "    }\n",
       "</style>\n",
       "<table border=\"1\" class=\"dataframe\">\n",
       "  <thead>\n",
       "    <tr style=\"text-align: right;\">\n",
       "      <th></th>\n",
       "      <th>prov</th>\n",
       "      <th>sectionID</th>\n",
       "      <th>locFrom</th>\n",
       "      <th>locTo</th>\n",
       "      <th>info_IRIAvg</th>\n",
       "      <th>class</th>\n",
       "      <th>length</th>\n",
       "      <th>do_nothing</th>\n",
       "      <th>routine</th>\n",
       "      <th>periodical</th>\n",
       "      <th>...</th>\n",
       "      <th>option1</th>\n",
       "      <th>option2</th>\n",
       "      <th>option3</th>\n",
       "      <th>weighted_IRI0</th>\n",
       "      <th>option1_IRI</th>\n",
       "      <th>weighted_IRI1</th>\n",
       "      <th>option2_IRI</th>\n",
       "      <th>weighted_IRI2</th>\n",
       "      <th>option3_IRI</th>\n",
       "      <th>weighted_IRI3</th>\n",
       "    </tr>\n",
       "  </thead>\n",
       "  <tbody>\n",
       "    <tr>\n",
       "      <th>0</th>\n",
       "      <td>1</td>\n",
       "      <td>100100</td>\n",
       "      <td>0</td>\n",
       "      <td>100</td>\n",
       "      <td>3.4950</td>\n",
       "      <td>Good</td>\n",
       "      <td>100</td>\n",
       "      <td>10000</td>\n",
       "      <td>10000</td>\n",
       "      <td>0</td>\n",
       "      <td>...</td>\n",
       "      <td>10000</td>\n",
       "      <td>10000</td>\n",
       "      <td>10000</td>\n",
       "      <td>349.50</td>\n",
       "      <td>3.873214</td>\n",
       "      <td>387.321429</td>\n",
       "      <td>3.873214</td>\n",
       "      <td>387.321429</td>\n",
       "      <td>3.873214</td>\n",
       "      <td>387.321429</td>\n",
       "    </tr>\n",
       "    <tr>\n",
       "      <th>1</th>\n",
       "      <td>1</td>\n",
       "      <td>100100</td>\n",
       "      <td>100</td>\n",
       "      <td>200</td>\n",
       "      <td>3.6475</td>\n",
       "      <td>Good</td>\n",
       "      <td>100</td>\n",
       "      <td>10000</td>\n",
       "      <td>10000</td>\n",
       "      <td>0</td>\n",
       "      <td>...</td>\n",
       "      <td>10000</td>\n",
       "      <td>10000</td>\n",
       "      <td>10000</td>\n",
       "      <td>364.75</td>\n",
       "      <td>4.036607</td>\n",
       "      <td>403.660714</td>\n",
       "      <td>4.036607</td>\n",
       "      <td>403.660714</td>\n",
       "      <td>4.036607</td>\n",
       "      <td>403.660714</td>\n",
       "    </tr>\n",
       "    <tr>\n",
       "      <th>2</th>\n",
       "      <td>1</td>\n",
       "      <td>100100</td>\n",
       "      <td>200</td>\n",
       "      <td>300</td>\n",
       "      <td>3.8950</td>\n",
       "      <td>Good</td>\n",
       "      <td>100</td>\n",
       "      <td>10000</td>\n",
       "      <td>10000</td>\n",
       "      <td>0</td>\n",
       "      <td>...</td>\n",
       "      <td>10000</td>\n",
       "      <td>10000</td>\n",
       "      <td>10000</td>\n",
       "      <td>389.50</td>\n",
       "      <td>4.301786</td>\n",
       "      <td>430.178571</td>\n",
       "      <td>4.301786</td>\n",
       "      <td>430.178571</td>\n",
       "      <td>4.301786</td>\n",
       "      <td>430.178571</td>\n",
       "    </tr>\n",
       "    <tr>\n",
       "      <th>3</th>\n",
       "      <td>1</td>\n",
       "      <td>100100</td>\n",
       "      <td>300</td>\n",
       "      <td>400</td>\n",
       "      <td>4.0550</td>\n",
       "      <td>Fair</td>\n",
       "      <td>100</td>\n",
       "      <td>10000</td>\n",
       "      <td>0</td>\n",
       "      <td>20000</td>\n",
       "      <td>...</td>\n",
       "      <td>10000</td>\n",
       "      <td>20000</td>\n",
       "      <td>20000</td>\n",
       "      <td>405.50</td>\n",
       "      <td>4.473214</td>\n",
       "      <td>447.321429</td>\n",
       "      <td>4.000000</td>\n",
       "      <td>400.000000</td>\n",
       "      <td>4.000000</td>\n",
       "      <td>400.000000</td>\n",
       "    </tr>\n",
       "    <tr>\n",
       "      <th>4</th>\n",
       "      <td>1</td>\n",
       "      <td>100100</td>\n",
       "      <td>400</td>\n",
       "      <td>500</td>\n",
       "      <td>3.5300</td>\n",
       "      <td>Good</td>\n",
       "      <td>100</td>\n",
       "      <td>10000</td>\n",
       "      <td>10000</td>\n",
       "      <td>0</td>\n",
       "      <td>...</td>\n",
       "      <td>10000</td>\n",
       "      <td>10000</td>\n",
       "      <td>10000</td>\n",
       "      <td>353.00</td>\n",
       "      <td>3.910714</td>\n",
       "      <td>391.071429</td>\n",
       "      <td>3.910714</td>\n",
       "      <td>391.071429</td>\n",
       "      <td>3.910714</td>\n",
       "      <td>391.071429</td>\n",
       "    </tr>\n",
       "    <tr>\n",
       "      <th>...</th>\n",
       "      <td>...</td>\n",
       "      <td>...</td>\n",
       "      <td>...</td>\n",
       "      <td>...</td>\n",
       "      <td>...</td>\n",
       "      <td>...</td>\n",
       "      <td>...</td>\n",
       "      <td>...</td>\n",
       "      <td>...</td>\n",
       "      <td>...</td>\n",
       "      <td>...</td>\n",
       "      <td>...</td>\n",
       "      <td>...</td>\n",
       "      <td>...</td>\n",
       "      <td>...</td>\n",
       "      <td>...</td>\n",
       "      <td>...</td>\n",
       "      <td>...</td>\n",
       "      <td>...</td>\n",
       "      <td>...</td>\n",
       "      <td>...</td>\n",
       "    </tr>\n",
       "    <tr>\n",
       "      <th>50872</th>\n",
       "      <td>28</td>\n",
       "      <td>2813500</td>\n",
       "      <td>29900</td>\n",
       "      <td>30000</td>\n",
       "      <td>7.8200</td>\n",
       "      <td>Poor</td>\n",
       "      <td>100</td>\n",
       "      <td>10000</td>\n",
       "      <td>0</td>\n",
       "      <td>0</td>\n",
       "      <td>...</td>\n",
       "      <td>10000</td>\n",
       "      <td>30000</td>\n",
       "      <td>60000</td>\n",
       "      <td>782.00</td>\n",
       "      <td>8.507143</td>\n",
       "      <td>850.714286</td>\n",
       "      <td>7.820000</td>\n",
       "      <td>782.000000</td>\n",
       "      <td>3.000000</td>\n",
       "      <td>300.000000</td>\n",
       "    </tr>\n",
       "    <tr>\n",
       "      <th>50873</th>\n",
       "      <td>28</td>\n",
       "      <td>2813500</td>\n",
       "      <td>30000</td>\n",
       "      <td>30100</td>\n",
       "      <td>3.3900</td>\n",
       "      <td>Good</td>\n",
       "      <td>100</td>\n",
       "      <td>10000</td>\n",
       "      <td>10000</td>\n",
       "      <td>0</td>\n",
       "      <td>...</td>\n",
       "      <td>10000</td>\n",
       "      <td>10000</td>\n",
       "      <td>10000</td>\n",
       "      <td>339.00</td>\n",
       "      <td>3.760714</td>\n",
       "      <td>376.071429</td>\n",
       "      <td>3.760714</td>\n",
       "      <td>376.071429</td>\n",
       "      <td>3.760714</td>\n",
       "      <td>376.071429</td>\n",
       "    </tr>\n",
       "    <tr>\n",
       "      <th>50874</th>\n",
       "      <td>28</td>\n",
       "      <td>2813500</td>\n",
       "      <td>30100</td>\n",
       "      <td>30200</td>\n",
       "      <td>6.1100</td>\n",
       "      <td>Poor</td>\n",
       "      <td>100</td>\n",
       "      <td>10000</td>\n",
       "      <td>0</td>\n",
       "      <td>0</td>\n",
       "      <td>...</td>\n",
       "      <td>10000</td>\n",
       "      <td>30000</td>\n",
       "      <td>60000</td>\n",
       "      <td>611.00</td>\n",
       "      <td>6.675000</td>\n",
       "      <td>667.500000</td>\n",
       "      <td>6.110000</td>\n",
       "      <td>611.000000</td>\n",
       "      <td>3.000000</td>\n",
       "      <td>300.000000</td>\n",
       "    </tr>\n",
       "    <tr>\n",
       "      <th>50875</th>\n",
       "      <td>28</td>\n",
       "      <td>2813500</td>\n",
       "      <td>30200</td>\n",
       "      <td>30300</td>\n",
       "      <td>4.5000</td>\n",
       "      <td>Fair</td>\n",
       "      <td>100</td>\n",
       "      <td>10000</td>\n",
       "      <td>0</td>\n",
       "      <td>20000</td>\n",
       "      <td>...</td>\n",
       "      <td>10000</td>\n",
       "      <td>20000</td>\n",
       "      <td>20000</td>\n",
       "      <td>450.00</td>\n",
       "      <td>4.950000</td>\n",
       "      <td>495.000000</td>\n",
       "      <td>4.000000</td>\n",
       "      <td>400.000000</td>\n",
       "      <td>4.000000</td>\n",
       "      <td>400.000000</td>\n",
       "    </tr>\n",
       "    <tr>\n",
       "      <th>50876</th>\n",
       "      <td>28</td>\n",
       "      <td>2813500</td>\n",
       "      <td>30300</td>\n",
       "      <td>30400</td>\n",
       "      <td>4.5000</td>\n",
       "      <td>Fair</td>\n",
       "      <td>100</td>\n",
       "      <td>10000</td>\n",
       "      <td>0</td>\n",
       "      <td>20000</td>\n",
       "      <td>...</td>\n",
       "      <td>10000</td>\n",
       "      <td>20000</td>\n",
       "      <td>20000</td>\n",
       "      <td>450.00</td>\n",
       "      <td>4.950000</td>\n",
       "      <td>495.000000</td>\n",
       "      <td>4.000000</td>\n",
       "      <td>400.000000</td>\n",
       "      <td>4.000000</td>\n",
       "      <td>400.000000</td>\n",
       "    </tr>\n",
       "  </tbody>\n",
       "</table>\n",
       "<p>50877 rows × 23 columns</p>\n",
       "</div>"
      ],
      "text/plain": [
       "      prov  sectionID  locFrom  locTo  info_IRIAvg class  length  do_nothing  \\\n",
       "0        1     100100        0    100       3.4950  Good     100       10000   \n",
       "1        1     100100      100    200       3.6475  Good     100       10000   \n",
       "2        1     100100      200    300       3.8950  Good     100       10000   \n",
       "3        1     100100      300    400       4.0550  Fair     100       10000   \n",
       "4        1     100100      400    500       3.5300  Good     100       10000   \n",
       "...    ...        ...      ...    ...          ...   ...     ...         ...   \n",
       "50872   28    2813500    29900  30000       7.8200  Poor     100       10000   \n",
       "50873   28    2813500    30000  30100       3.3900  Good     100       10000   \n",
       "50874   28    2813500    30100  30200       6.1100  Poor     100       10000   \n",
       "50875   28    2813500    30200  30300       4.5000  Fair     100       10000   \n",
       "50876   28    2813500    30300  30400       4.5000  Fair     100       10000   \n",
       "\n",
       "       routine  periodical  ...  option1  option2  option3  weighted_IRI0  \\\n",
       "0        10000           0  ...    10000    10000    10000         349.50   \n",
       "1        10000           0  ...    10000    10000    10000         364.75   \n",
       "2        10000           0  ...    10000    10000    10000         389.50   \n",
       "3            0       20000  ...    10000    20000    20000         405.50   \n",
       "4        10000           0  ...    10000    10000    10000         353.00   \n",
       "...        ...         ...  ...      ...      ...      ...            ...   \n",
       "50872        0           0  ...    10000    30000    60000         782.00   \n",
       "50873    10000           0  ...    10000    10000    10000         339.00   \n",
       "50874        0           0  ...    10000    30000    60000         611.00   \n",
       "50875        0       20000  ...    10000    20000    20000         450.00   \n",
       "50876        0       20000  ...    10000    20000    20000         450.00   \n",
       "\n",
       "       option1_IRI  weighted_IRI1  option2_IRI  weighted_IRI2  option3_IRI  \\\n",
       "0         3.873214     387.321429     3.873214     387.321429     3.873214   \n",
       "1         4.036607     403.660714     4.036607     403.660714     4.036607   \n",
       "2         4.301786     430.178571     4.301786     430.178571     4.301786   \n",
       "3         4.473214     447.321429     4.000000     400.000000     4.000000   \n",
       "4         3.910714     391.071429     3.910714     391.071429     3.910714   \n",
       "...            ...            ...          ...            ...          ...   \n",
       "50872     8.507143     850.714286     7.820000     782.000000     3.000000   \n",
       "50873     3.760714     376.071429     3.760714     376.071429     3.760714   \n",
       "50874     6.675000     667.500000     6.110000     611.000000     3.000000   \n",
       "50875     4.950000     495.000000     4.000000     400.000000     4.000000   \n",
       "50876     4.950000     495.000000     4.000000     400.000000     4.000000   \n",
       "\n",
       "       weighted_IRI3  \n",
       "0         387.321429  \n",
       "1         403.660714  \n",
       "2         430.178571  \n",
       "3         400.000000  \n",
       "4         391.071429  \n",
       "...              ...  \n",
       "50872     300.000000  \n",
       "50873     376.071429  \n",
       "50874     300.000000  \n",
       "50875     400.000000  \n",
       "50876     400.000000  \n",
       "\n",
       "[50877 rows x 23 columns]"
      ]
     },
     "execution_count": 206,
     "metadata": {},
     "output_type": "execute_result"
    }
   ],
   "source": [
    "df_segment"
   ]
  },
  {
   "cell_type": "markdown",
   "id": "f343fd67",
   "metadata": {},
   "source": [
    "# SETTING-UP BEFORE OPTIMIZATION"
   ]
  },
  {
   "cell_type": "markdown",
   "id": "e491a1d9",
   "metadata": {},
   "source": [
    "## I. Create new DF in section unit (Optimization by section)"
   ]
  },
  {
   "cell_type": "code",
   "execution_count": 207,
   "id": "f6ba505c",
   "metadata": {},
   "outputs": [],
   "source": [
    "# Aggregation conditions\n",
    "agg_functions = {\n",
    "    'length': 'sum',\n",
    "    'do_nothing': 'sum',\n",
    "    'routine': 'sum',\n",
    "    'periodical': 'sum',\n",
    "    'holding': 'sum',\n",
    "    'rehab': 'sum',\n",
    "    'reconstruction': 'sum',\n",
    "    'option1': 'sum',\n",
    "    'option2': 'sum',\n",
    "    'option3': 'sum',\n",
    "    }"
   ]
  },
  {
   "cell_type": "code",
   "execution_count": 208,
   "id": "c9615d06",
   "metadata": {
    "scrolled": true
   },
   "outputs": [],
   "source": [
    "# Create new DF\n",
    "df_section = df_segment.groupby(['prov', 'sectionID']).agg(agg_functions).reset_index()"
   ]
  },
  {
   "cell_type": "code",
   "execution_count": 209,
   "id": "00024012",
   "metadata": {
    "scrolled": true
   },
   "outputs": [],
   "source": [
    "# Add IRI info\n",
    "df_section['info_IRIAvg'] = df_segment.groupby('sectionID', as_index=False)\\\n",
    "                            ['weighted_IRI0'].sum()['weighted_IRI0'] /df_section['length']\n",
    "df_section['option1_IRI'] = df_segment.groupby('sectionID', as_index=False)\\\n",
    "                            ['weighted_IRI1'].sum()['weighted_IRI1'] /df_section['length']\n",
    "df_section['option2_IRI'] = df_segment.groupby('sectionID', as_index=False)\\\n",
    "                            ['weighted_IRI2'].sum()['weighted_IRI2'] /df_section['length']\n",
    "df_section['option3_IRI'] = df_segment.groupby('sectionID', as_index=False)\\\n",
    "                            ['weighted_IRI3'].sum()['weighted_IRI3'] /df_section['length']"
   ]
  },
  {
   "cell_type": "markdown",
   "id": "904c29d7",
   "metadata": {},
   "source": [
    "## II. Create new DF at prov level (to calculate KPI prov)"
   ]
  },
  {
   "cell_type": "code",
   "execution_count": 210,
   "id": "967c53db",
   "metadata": {},
   "outputs": [],
   "source": [
    "# Create new DF\n",
    "df_prov = df_segment.groupby('prov')['length'].sum().reset_index()\n",
    "df_prov = df_prov.rename(columns={'length': 'tot_length'})"
   ]
  },
  {
   "cell_type": "markdown",
   "id": "9849f94b",
   "metadata": {},
   "source": [
    "## III. KPI (before optimization)"
   ]
  },
  {
   "cell_type": "code",
   "execution_count": 211,
   "id": "4c786e6d",
   "metadata": {},
   "outputs": [],
   "source": [
    "# KPI is the percentage of length of IRI<=6 --> adjust to requirements"
   ]
  },
  {
   "cell_type": "markdown",
   "id": "f6de5a30",
   "metadata": {},
   "source": [
    "### Case 0: Existing Data"
   ]
  },
  {
   "cell_type": "code",
   "execution_count": 212,
   "id": "6f12dccc",
   "metadata": {},
   "outputs": [],
   "source": [
    "# Filter IRI<=6\n",
    "KPI_prov0 = df_segment.loc[df_segment['info_IRIAvg'] <= 6]"
   ]
  },
  {
   "cell_type": "code",
   "execution_count": 213,
   "id": "ff3adfa1",
   "metadata": {},
   "outputs": [],
   "source": [
    "# Sum length by prov\n",
    "KPI_prov0 = KPI_prov0.groupby('prov')['length'].sum().reset_index()"
   ]
  },
  {
   "cell_type": "code",
   "execution_count": 214,
   "id": "4f0a3cef",
   "metadata": {},
   "outputs": [],
   "source": [
    "# Join total length\n",
    "KPI_prov0 = pd.merge(KPI_prov0, df_prov, on='prov', how='inner')"
   ]
  },
  {
   "cell_type": "code",
   "execution_count": 215,
   "id": "ca2e2065",
   "metadata": {
    "scrolled": true
   },
   "outputs": [],
   "source": [
    "# Create KPI prov\n",
    "KPI_prov0['KPI'] = KPI_prov0['length']/KPI_prov0['tot_length']*100"
   ]
  },
  {
   "cell_type": "code",
   "execution_count": 216,
   "id": "4c4ebba6",
   "metadata": {},
   "outputs": [],
   "source": [
    "# KPI at national level\n",
    "KPI_nat0 = ['All', KPI_prov0['length'].sum(), KPI_prov0['tot_length'].sum(), \\\n",
    "            KPI_prov0['length'].sum()/KPI_prov0['tot_length'].sum()*100]"
   ]
  },
  {
   "cell_type": "code",
   "execution_count": 217,
   "id": "72a45784",
   "metadata": {},
   "outputs": [],
   "source": [
    "# Combine KPI prov and nat\n",
    "KPI_prov0.loc[len(KPI_prov0)] = KPI_nat0"
   ]
  },
  {
   "cell_type": "code",
   "execution_count": 218,
   "id": "c4b2a6f3",
   "metadata": {},
   "outputs": [
    {
     "data": {
      "text/html": [
       "<div>\n",
       "<style scoped>\n",
       "    .dataframe tbody tr th:only-of-type {\n",
       "        vertical-align: middle;\n",
       "    }\n",
       "\n",
       "    .dataframe tbody tr th {\n",
       "        vertical-align: top;\n",
       "    }\n",
       "\n",
       "    .dataframe thead th {\n",
       "        text-align: right;\n",
       "    }\n",
       "</style>\n",
       "<table border=\"1\" class=\"dataframe\">\n",
       "  <thead>\n",
       "    <tr style=\"text-align: right;\">\n",
       "      <th></th>\n",
       "      <th>prov</th>\n",
       "      <th>length</th>\n",
       "      <th>tot_length</th>\n",
       "      <th>KPI</th>\n",
       "    </tr>\n",
       "  </thead>\n",
       "  <tbody>\n",
       "    <tr>\n",
       "      <th>0</th>\n",
       "      <td>1</td>\n",
       "      <td>1770980</td>\n",
       "      <td>2116360</td>\n",
       "      <td>83.680470</td>\n",
       "    </tr>\n",
       "    <tr>\n",
       "      <th>1</th>\n",
       "      <td>16</td>\n",
       "      <td>581779</td>\n",
       "      <td>601023</td>\n",
       "      <td>96.798126</td>\n",
       "    </tr>\n",
       "    <tr>\n",
       "      <th>2</th>\n",
       "      <td>28</td>\n",
       "      <td>1992956</td>\n",
       "      <td>2368503</td>\n",
       "      <td>84.144120</td>\n",
       "    </tr>\n",
       "    <tr>\n",
       "      <th>3</th>\n",
       "      <td>All</td>\n",
       "      <td>4345715</td>\n",
       "      <td>5085886</td>\n",
       "      <td>85.446567</td>\n",
       "    </tr>\n",
       "  </tbody>\n",
       "</table>\n",
       "</div>"
      ],
      "text/plain": [
       "  prov   length  tot_length        KPI\n",
       "0    1  1770980     2116360  83.680470\n",
       "1   16   581779      601023  96.798126\n",
       "2   28  1992956     2368503  84.144120\n",
       "3  All  4345715     5085886  85.446567"
      ]
     },
     "execution_count": 218,
     "metadata": {},
     "output_type": "execute_result"
    }
   ],
   "source": [
    "KPI_prov0"
   ]
  },
  {
   "cell_type": "markdown",
   "id": "417ca6b4",
   "metadata": {},
   "source": [
    "### Case 1: Do Nothing"
   ]
  },
  {
   "cell_type": "code",
   "execution_count": 219,
   "id": "1745670e",
   "metadata": {},
   "outputs": [],
   "source": [
    "# Filter KPI\n",
    "KPI_prov1 = df_segment.loc[df_segment['option1_IRI'] <= 6]"
   ]
  },
  {
   "cell_type": "code",
   "execution_count": 220,
   "id": "f1ab5e4a",
   "metadata": {},
   "outputs": [],
   "source": [
    "# Sum length by prov\n",
    "KPI_prov1 = KPI_prov1.groupby('prov')['length'].sum().reset_index()"
   ]
  },
  {
   "cell_type": "code",
   "execution_count": 221,
   "id": "0322d7ca",
   "metadata": {},
   "outputs": [],
   "source": [
    "# Join total length\n",
    "KPI_prov1 = pd.merge(KPI_prov1, df_prov, on='prov', how='inner')"
   ]
  },
  {
   "cell_type": "code",
   "execution_count": 222,
   "id": "14982b55",
   "metadata": {
    "scrolled": true
   },
   "outputs": [],
   "source": [
    "# Create KPI prov\n",
    "KPI_prov1['KPI'] = KPI_prov1['length']/KPI_prov1['tot_length']*100"
   ]
  },
  {
   "cell_type": "code",
   "execution_count": 223,
   "id": "d7433d55",
   "metadata": {},
   "outputs": [],
   "source": [
    "# KPI at national level\n",
    "KPI_nat1 = ['All', KPI_prov1['length'].sum(), KPI_prov1['tot_length'].sum(), \\\n",
    "            KPI_prov1['length'].sum()/KPI_prov1['tot_length'].sum()*100]"
   ]
  },
  {
   "cell_type": "code",
   "execution_count": 224,
   "id": "5a9d0a38",
   "metadata": {},
   "outputs": [],
   "source": [
    "# Combine KPI prov and nat\n",
    "KPI_prov1.loc[len(KPI_prov1)] = KPI_nat1"
   ]
  },
  {
   "cell_type": "code",
   "execution_count": 225,
   "id": "da07fd93",
   "metadata": {},
   "outputs": [
    {
     "data": {
      "text/html": [
       "<div>\n",
       "<style scoped>\n",
       "    .dataframe tbody tr th:only-of-type {\n",
       "        vertical-align: middle;\n",
       "    }\n",
       "\n",
       "    .dataframe tbody tr th {\n",
       "        vertical-align: top;\n",
       "    }\n",
       "\n",
       "    .dataframe thead th {\n",
       "        text-align: right;\n",
       "    }\n",
       "</style>\n",
       "<table border=\"1\" class=\"dataframe\">\n",
       "  <thead>\n",
       "    <tr style=\"text-align: right;\">\n",
       "      <th></th>\n",
       "      <th>prov</th>\n",
       "      <th>length</th>\n",
       "      <th>tot_length</th>\n",
       "      <th>KPI</th>\n",
       "    </tr>\n",
       "  </thead>\n",
       "  <tbody>\n",
       "    <tr>\n",
       "      <th>0</th>\n",
       "      <td>1</td>\n",
       "      <td>1647140</td>\n",
       "      <td>2116360</td>\n",
       "      <td>77.828914</td>\n",
       "    </tr>\n",
       "    <tr>\n",
       "      <th>1</th>\n",
       "      <td>16</td>\n",
       "      <td>568929</td>\n",
       "      <td>601023</td>\n",
       "      <td>94.660105</td>\n",
       "    </tr>\n",
       "    <tr>\n",
       "      <th>2</th>\n",
       "      <td>28</td>\n",
       "      <td>1835705</td>\n",
       "      <td>2368503</td>\n",
       "      <td>77.504863</td>\n",
       "    </tr>\n",
       "    <tr>\n",
       "      <th>3</th>\n",
       "      <td>All</td>\n",
       "      <td>4051774</td>\n",
       "      <td>5085886</td>\n",
       "      <td>79.667024</td>\n",
       "    </tr>\n",
       "  </tbody>\n",
       "</table>\n",
       "</div>"
      ],
      "text/plain": [
       "  prov   length  tot_length        KPI\n",
       "0    1  1647140     2116360  77.828914\n",
       "1   16   568929      601023  94.660105\n",
       "2   28  1835705     2368503  77.504863\n",
       "3  All  4051774     5085886  79.667024"
      ]
     },
     "execution_count": 225,
     "metadata": {},
     "output_type": "execute_result"
    }
   ],
   "source": [
    "KPI_prov1"
   ]
  },
  {
   "cell_type": "markdown",
   "id": "04493858",
   "metadata": {},
   "source": [
    "### Case 2: Minimum"
   ]
  },
  {
   "cell_type": "code",
   "execution_count": 226,
   "id": "b9a1c171",
   "metadata": {},
   "outputs": [],
   "source": [
    "# Filter KPI\n",
    "KPI_prov2 = df_segment.loc[df_segment['option2_IRI'] <= 6]"
   ]
  },
  {
   "cell_type": "code",
   "execution_count": 227,
   "id": "74698dce",
   "metadata": {},
   "outputs": [],
   "source": [
    "# Sum length by prov\n",
    "KPI_prov2 = KPI_prov2.groupby('prov')['length'].sum().reset_index()"
   ]
  },
  {
   "cell_type": "code",
   "execution_count": 228,
   "id": "4dc0f449",
   "metadata": {},
   "outputs": [],
   "source": [
    "# Join total length\n",
    "KPI_prov2 = pd.merge(KPI_prov2, df_prov, on='prov', how='inner')"
   ]
  },
  {
   "cell_type": "code",
   "execution_count": 229,
   "id": "0ac6a10d",
   "metadata": {
    "scrolled": true
   },
   "outputs": [],
   "source": [
    "# Create KPI prov\n",
    "KPI_prov2['KPI'] = KPI_prov2['length']/KPI_prov2['tot_length']*100"
   ]
  },
  {
   "cell_type": "code",
   "execution_count": 230,
   "id": "7f7822cd",
   "metadata": {},
   "outputs": [],
   "source": [
    "# KPI at national level\n",
    "KPI_nat2 = ['All', KPI_prov2['length'].sum(), KPI_prov2['tot_length'].sum(), \\\n",
    "            KPI_prov2['length'].sum()/KPI_prov2['tot_length'].sum()*100]"
   ]
  },
  {
   "cell_type": "code",
   "execution_count": 231,
   "id": "f84726d5",
   "metadata": {},
   "outputs": [],
   "source": [
    "# Combine KPI prov and nat\n",
    "KPI_prov2.loc[len(KPI_prov2)] = KPI_nat2"
   ]
  },
  {
   "cell_type": "code",
   "execution_count": 232,
   "id": "7a3220ab",
   "metadata": {},
   "outputs": [
    {
     "data": {
      "text/html": [
       "<div>\n",
       "<style scoped>\n",
       "    .dataframe tbody tr th:only-of-type {\n",
       "        vertical-align: middle;\n",
       "    }\n",
       "\n",
       "    .dataframe tbody tr th {\n",
       "        vertical-align: top;\n",
       "    }\n",
       "\n",
       "    .dataframe thead th {\n",
       "        text-align: right;\n",
       "    }\n",
       "</style>\n",
       "<table border=\"1\" class=\"dataframe\">\n",
       "  <thead>\n",
       "    <tr style=\"text-align: right;\">\n",
       "      <th></th>\n",
       "      <th>prov</th>\n",
       "      <th>length</th>\n",
       "      <th>tot_length</th>\n",
       "      <th>KPI</th>\n",
       "    </tr>\n",
       "  </thead>\n",
       "  <tbody>\n",
       "    <tr>\n",
       "      <th>0</th>\n",
       "      <td>1</td>\n",
       "      <td>1770980</td>\n",
       "      <td>2116360</td>\n",
       "      <td>83.680470</td>\n",
       "    </tr>\n",
       "    <tr>\n",
       "      <th>1</th>\n",
       "      <td>16</td>\n",
       "      <td>581779</td>\n",
       "      <td>601023</td>\n",
       "      <td>96.798126</td>\n",
       "    </tr>\n",
       "    <tr>\n",
       "      <th>2</th>\n",
       "      <td>28</td>\n",
       "      <td>1992956</td>\n",
       "      <td>2368503</td>\n",
       "      <td>84.144120</td>\n",
       "    </tr>\n",
       "    <tr>\n",
       "      <th>3</th>\n",
       "      <td>All</td>\n",
       "      <td>4345715</td>\n",
       "      <td>5085886</td>\n",
       "      <td>85.446567</td>\n",
       "    </tr>\n",
       "  </tbody>\n",
       "</table>\n",
       "</div>"
      ],
      "text/plain": [
       "  prov   length  tot_length        KPI\n",
       "0    1  1770980     2116360  83.680470\n",
       "1   16   581779      601023  96.798126\n",
       "2   28  1992956     2368503  84.144120\n",
       "3  All  4345715     5085886  85.446567"
      ]
     },
     "execution_count": 232,
     "metadata": {},
     "output_type": "execute_result"
    }
   ],
   "source": [
    "KPI_prov2"
   ]
  },
  {
   "cell_type": "markdown",
   "id": "d4c50033",
   "metadata": {},
   "source": [
    "### Case 3: Unconstrained"
   ]
  },
  {
   "cell_type": "code",
   "execution_count": 233,
   "id": "68a5681d",
   "metadata": {},
   "outputs": [],
   "source": [
    "# Filter KPI\n",
    "KPI_prov3 = df_segment.loc[df_segment['option3_IRI'] <= 6]"
   ]
  },
  {
   "cell_type": "code",
   "execution_count": 234,
   "id": "356d75d9",
   "metadata": {},
   "outputs": [],
   "source": [
    "# Sum length by prov\n",
    "KPI_prov3 = KPI_prov3.groupby('prov')['length'].sum().reset_index()"
   ]
  },
  {
   "cell_type": "code",
   "execution_count": 235,
   "id": "f3a9b35b",
   "metadata": {},
   "outputs": [],
   "source": [
    "# Join total length\n",
    "KPI_prov3 = pd.merge(KPI_prov3, df_prov, on='prov', how='inner')"
   ]
  },
  {
   "cell_type": "code",
   "execution_count": 236,
   "id": "a6a0de1e",
   "metadata": {
    "scrolled": true
   },
   "outputs": [],
   "source": [
    "# Create KPI prov\n",
    "KPI_prov3['KPI'] = KPI_prov3['length']/KPI_prov3['tot_length']*100"
   ]
  },
  {
   "cell_type": "code",
   "execution_count": 237,
   "id": "94ff0fb5",
   "metadata": {},
   "outputs": [],
   "source": [
    "# KPI at national level\n",
    "KPI_nat3 = ['All', KPI_prov3['length'].sum(), KPI_prov3['tot_length'].sum(), \\\n",
    "            KPI_prov3['length'].sum()/KPI_prov3['tot_length'].sum()*100]"
   ]
  },
  {
   "cell_type": "code",
   "execution_count": 238,
   "id": "181bab25",
   "metadata": {},
   "outputs": [],
   "source": [
    "# Combine KPI prov and nat\n",
    "KPI_prov3.loc[len(KPI_prov3)] = KPI_nat3"
   ]
  },
  {
   "cell_type": "code",
   "execution_count": 239,
   "id": "a282ab38",
   "metadata": {
    "scrolled": true
   },
   "outputs": [
    {
     "data": {
      "text/html": [
       "<div>\n",
       "<style scoped>\n",
       "    .dataframe tbody tr th:only-of-type {\n",
       "        vertical-align: middle;\n",
       "    }\n",
       "\n",
       "    .dataframe tbody tr th {\n",
       "        vertical-align: top;\n",
       "    }\n",
       "\n",
       "    .dataframe thead th {\n",
       "        text-align: right;\n",
       "    }\n",
       "</style>\n",
       "<table border=\"1\" class=\"dataframe\">\n",
       "  <thead>\n",
       "    <tr style=\"text-align: right;\">\n",
       "      <th></th>\n",
       "      <th>prov</th>\n",
       "      <th>length</th>\n",
       "      <th>tot_length</th>\n",
       "      <th>KPI</th>\n",
       "    </tr>\n",
       "  </thead>\n",
       "  <tbody>\n",
       "    <tr>\n",
       "      <th>0</th>\n",
       "      <td>1</td>\n",
       "      <td>2116360</td>\n",
       "      <td>2116360</td>\n",
       "      <td>100.0</td>\n",
       "    </tr>\n",
       "    <tr>\n",
       "      <th>1</th>\n",
       "      <td>16</td>\n",
       "      <td>601023</td>\n",
       "      <td>601023</td>\n",
       "      <td>100.0</td>\n",
       "    </tr>\n",
       "    <tr>\n",
       "      <th>2</th>\n",
       "      <td>28</td>\n",
       "      <td>2368503</td>\n",
       "      <td>2368503</td>\n",
       "      <td>100.0</td>\n",
       "    </tr>\n",
       "    <tr>\n",
       "      <th>3</th>\n",
       "      <td>All</td>\n",
       "      <td>5085886</td>\n",
       "      <td>5085886</td>\n",
       "      <td>100.0</td>\n",
       "    </tr>\n",
       "  </tbody>\n",
       "</table>\n",
       "</div>"
      ],
      "text/plain": [
       "  prov   length  tot_length    KPI\n",
       "0    1  2116360     2116360  100.0\n",
       "1   16   601023      601023  100.0\n",
       "2   28  2368503     2368503  100.0\n",
       "3  All  5085886     5085886  100.0"
      ]
     },
     "execution_count": 239,
     "metadata": {},
     "output_type": "execute_result"
    }
   ],
   "source": [
    "KPI_prov3"
   ]
  },
  {
   "cell_type": "markdown",
   "id": "e95b90ed",
   "metadata": {},
   "source": [
    "## IV. Required costs (before optimization)"
   ]
  },
  {
   "cell_type": "markdown",
   "id": "04261e34",
   "metadata": {},
   "source": [
    "### Case 1: Do nothing"
   ]
  },
  {
   "cell_type": "code",
   "execution_count": 240,
   "id": "821afcc2",
   "metadata": {
    "scrolled": true
   },
   "outputs": [],
   "source": [
    "# Costs prov\n",
    "Costs_prov1 = df_section.groupby('prov')['option1'].sum().reset_index()"
   ]
  },
  {
   "cell_type": "code",
   "execution_count": 241,
   "id": "f17c8ba5",
   "metadata": {},
   "outputs": [],
   "source": [
    "# Costs at national level\n",
    "Costs_nat1 = df_section['option1'].sum()"
   ]
  },
  {
   "cell_type": "code",
   "execution_count": 242,
   "id": "92863f27",
   "metadata": {},
   "outputs": [],
   "source": [
    "# Combine Costs prov and nat\n",
    "Costs_prov1.loc[len(Costs_prov1)] = Costs_nat1\n",
    "Costs_prov1.iloc[-1,0] = 'All'\n",
    "Costs_prov1 = Costs_prov1.rename(columns={'option1': 'Costs'})"
   ]
  },
  {
   "cell_type": "code",
   "execution_count": 243,
   "id": "6da34281",
   "metadata": {
    "scrolled": false
   },
   "outputs": [
    {
     "data": {
      "text/html": [
       "<div>\n",
       "<style scoped>\n",
       "    .dataframe tbody tr th:only-of-type {\n",
       "        vertical-align: middle;\n",
       "    }\n",
       "\n",
       "    .dataframe tbody tr th {\n",
       "        vertical-align: top;\n",
       "    }\n",
       "\n",
       "    .dataframe thead th {\n",
       "        text-align: right;\n",
       "    }\n",
       "</style>\n",
       "<table border=\"1\" class=\"dataframe\">\n",
       "  <thead>\n",
       "    <tr style=\"text-align: right;\">\n",
       "      <th></th>\n",
       "      <th>prov</th>\n",
       "      <th>Costs</th>\n",
       "    </tr>\n",
       "  </thead>\n",
       "  <tbody>\n",
       "    <tr>\n",
       "      <th>0</th>\n",
       "      <td>1</td>\n",
       "      <td>211636000</td>\n",
       "    </tr>\n",
       "    <tr>\n",
       "      <th>1</th>\n",
       "      <td>16</td>\n",
       "      <td>60102300</td>\n",
       "    </tr>\n",
       "    <tr>\n",
       "      <th>2</th>\n",
       "      <td>28</td>\n",
       "      <td>236850300</td>\n",
       "    </tr>\n",
       "    <tr>\n",
       "      <th>3</th>\n",
       "      <td>All</td>\n",
       "      <td>508588600</td>\n",
       "    </tr>\n",
       "  </tbody>\n",
       "</table>\n",
       "</div>"
      ],
      "text/plain": [
       "  prov      Costs\n",
       "0    1  211636000\n",
       "1   16   60102300\n",
       "2   28  236850300\n",
       "3  All  508588600"
      ]
     },
     "execution_count": 243,
     "metadata": {},
     "output_type": "execute_result"
    }
   ],
   "source": [
    "Costs_prov1"
   ]
  },
  {
   "cell_type": "markdown",
   "id": "d27be09e",
   "metadata": {},
   "source": [
    "### Case 2: Minimum"
   ]
  },
  {
   "cell_type": "code",
   "execution_count": 244,
   "id": "0de8eee6",
   "metadata": {
    "scrolled": true
   },
   "outputs": [],
   "source": [
    "# Costs prov\n",
    "Costs_prov2 = df_section.groupby('prov')['option2'].sum().reset_index()"
   ]
  },
  {
   "cell_type": "code",
   "execution_count": 245,
   "id": "7ce0c417",
   "metadata": {},
   "outputs": [],
   "source": [
    "# Costs at national level\n",
    "Costs_nat2 = df_section['option2'].sum()"
   ]
  },
  {
   "cell_type": "code",
   "execution_count": 246,
   "id": "ef09881c",
   "metadata": {},
   "outputs": [],
   "source": [
    "# Combine Costs prov and nat\n",
    "Costs_prov2.loc[len(Costs_prov2)] = Costs_nat2\n",
    "Costs_prov2.iloc[-1,0] = 'All'\n",
    "Costs_prov2 = Costs_prov2.rename(columns={'option2': 'Costs'})"
   ]
  },
  {
   "cell_type": "code",
   "execution_count": 247,
   "id": "17f4abd4",
   "metadata": {
    "scrolled": true
   },
   "outputs": [
    {
     "data": {
      "text/html": [
       "<div>\n",
       "<style scoped>\n",
       "    .dataframe tbody tr th:only-of-type {\n",
       "        vertical-align: middle;\n",
       "    }\n",
       "\n",
       "    .dataframe tbody tr th {\n",
       "        vertical-align: top;\n",
       "    }\n",
       "\n",
       "    .dataframe thead th {\n",
       "        text-align: right;\n",
       "    }\n",
       "</style>\n",
       "<table border=\"1\" class=\"dataframe\">\n",
       "  <thead>\n",
       "    <tr style=\"text-align: right;\">\n",
       "      <th></th>\n",
       "      <th>prov</th>\n",
       "      <th>Costs</th>\n",
       "    </tr>\n",
       "  </thead>\n",
       "  <tbody>\n",
       "    <tr>\n",
       "      <th>0</th>\n",
       "      <td>1</td>\n",
       "      <td>348929000</td>\n",
       "    </tr>\n",
       "    <tr>\n",
       "      <th>1</th>\n",
       "      <td>16</td>\n",
       "      <td>75543800</td>\n",
       "    </tr>\n",
       "    <tr>\n",
       "      <th>2</th>\n",
       "      <td>28</td>\n",
       "      <td>400110300</td>\n",
       "    </tr>\n",
       "    <tr>\n",
       "      <th>3</th>\n",
       "      <td>All</td>\n",
       "      <td>824583100</td>\n",
       "    </tr>\n",
       "  </tbody>\n",
       "</table>\n",
       "</div>"
      ],
      "text/plain": [
       "  prov      Costs\n",
       "0    1  348929000\n",
       "1   16   75543800\n",
       "2   28  400110300\n",
       "3  All  824583100"
      ]
     },
     "execution_count": 247,
     "metadata": {},
     "output_type": "execute_result"
    }
   ],
   "source": [
    "Costs_prov2"
   ]
  },
  {
   "cell_type": "markdown",
   "id": "5f2f027d",
   "metadata": {},
   "source": [
    "### Case 3: Unconstrained"
   ]
  },
  {
   "cell_type": "code",
   "execution_count": 248,
   "id": "7140837a",
   "metadata": {
    "scrolled": true
   },
   "outputs": [],
   "source": [
    "# Costs prov\n",
    "Costs_prov3 = df_section.groupby('prov')['option3'].sum().reset_index()"
   ]
  },
  {
   "cell_type": "code",
   "execution_count": 249,
   "id": "f8e14551",
   "metadata": {},
   "outputs": [],
   "source": [
    "# Costs at national level\n",
    "Costs_nat3 = df_section['option3'].sum()"
   ]
  },
  {
   "cell_type": "code",
   "execution_count": 250,
   "id": "456adbf0",
   "metadata": {},
   "outputs": [],
   "source": [
    "# Combine Costs prov and nat\n",
    "Costs_prov3.loc[len(Costs_prov3)] = Costs_nat3\n",
    "Costs_prov3.iloc[-1,0] = 'All'\n",
    "Costs_prov3 = Costs_prov3.rename(columns={'option3': 'Costs'})"
   ]
  },
  {
   "cell_type": "code",
   "execution_count": 251,
   "id": "2ed0cd2a",
   "metadata": {
    "scrolled": false
   },
   "outputs": [
    {
     "data": {
      "text/html": [
       "<div>\n",
       "<style scoped>\n",
       "    .dataframe tbody tr th:only-of-type {\n",
       "        vertical-align: middle;\n",
       "    }\n",
       "\n",
       "    .dataframe tbody tr th {\n",
       "        vertical-align: top;\n",
       "    }\n",
       "\n",
       "    .dataframe thead th {\n",
       "        text-align: right;\n",
       "    }\n",
       "</style>\n",
       "<table border=\"1\" class=\"dataframe\">\n",
       "  <thead>\n",
       "    <tr style=\"text-align: right;\">\n",
       "      <th></th>\n",
       "      <th>prov</th>\n",
       "      <th>Costs</th>\n",
       "    </tr>\n",
       "  </thead>\n",
       "  <tbody>\n",
       "    <tr>\n",
       "      <th>0</th>\n",
       "      <td>1</td>\n",
       "      <td>493327000</td>\n",
       "    </tr>\n",
       "    <tr>\n",
       "      <th>1</th>\n",
       "      <td>16</td>\n",
       "      <td>82157000</td>\n",
       "    </tr>\n",
       "    <tr>\n",
       "      <th>2</th>\n",
       "      <td>28</td>\n",
       "      <td>553448400</td>\n",
       "    </tr>\n",
       "    <tr>\n",
       "      <th>3</th>\n",
       "      <td>All</td>\n",
       "      <td>1128932400</td>\n",
       "    </tr>\n",
       "  </tbody>\n",
       "</table>\n",
       "</div>"
      ],
      "text/plain": [
       "  prov       Costs\n",
       "0    1   493327000\n",
       "1   16    82157000\n",
       "2   28   553448400\n",
       "3  All  1128932400"
      ]
     },
     "execution_count": 251,
     "metadata": {},
     "output_type": "execute_result"
    }
   ],
   "source": [
    "Costs_prov3"
   ]
  },
  {
   "cell_type": "markdown",
   "id": "94c7fe8d",
   "metadata": {},
   "source": [
    "# OPTIMIZATION"
   ]
  },
  {
   "cell_type": "code",
   "execution_count": 252,
   "id": "5d9f81a3",
   "metadata": {},
   "outputs": [],
   "source": [
    "# Using linear programming"
   ]
  },
  {
   "cell_type": "markdown",
   "id": "821fb58b",
   "metadata": {},
   "source": [
    "## I. Define constraints"
   ]
  },
  {
   "cell_type": "code",
   "execution_count": 253,
   "id": "cc98452b",
   "metadata": {},
   "outputs": [],
   "source": [
    "# Constraint 1: total costs < national budget --> adjust to requirements\n",
    "budget_nat = 830000000 # value must be in between Costs_nat of Case Minimum and Unconstrained"
   ]
  },
  {
   "cell_type": "code",
   "execution_count": 254,
   "id": "39128be3",
   "metadata": {},
   "outputs": [],
   "source": [
    "# Constraint 2: budget threshold due to political reasons --> adjust to requirements\n",
    "budget_prov = {'prov': ['1','16','28'], 'sign':['>','>','>'], 'budget': [0,0,0]} # prov in STRING!\n",
    "                # budget must be >= Costs_prov of Case Minimum. If no budget threshold, enter > 0"
   ]
  },
  {
   "cell_type": "code",
   "execution_count": 255,
   "id": "a4870073",
   "metadata": {},
   "outputs": [],
   "source": [
    "# Constraint 3: KPI threshold due to political reasons --> adjust to requirements\n",
    "KPI_prov = {'prov': ['1','16','28'], 'KPI': [0,0,0]} # prov in STRING!\n",
    "            # KPI must be >= KPI_prov of Case Minimum. If no KPI threshold, enter 0"
   ]
  },
  {
   "cell_type": "markdown",
   "id": "3d186085",
   "metadata": {},
   "source": [
    "## II. Optimization formula"
   ]
  },
  {
   "cell_type": "code",
   "execution_count": 256,
   "id": "4c683ec1",
   "metadata": {},
   "outputs": [],
   "source": [
    "def optimize_road_maintenance(df, total_budget, KPI_prov, budget_prov):\n",
    "    print(\"Setting up the problem...\")\n",
    "\n",
    "    # Define the problem\n",
    "    prob = LpProblem(\"RoadMaintenanceOptimization\", LpMaximize)\n",
    "\n",
    "    # Decision variables for each sectionID - Binary: 1 for option2, 0 for option3\n",
    "    section_choices = LpVariable.dicts(\"SectionChoice\", df['sectionID'].unique(), cat='Binary')\n",
    "\n",
    "    # Objective function\n",
    "    print(\"Configuring the objective function...\")\n",
    "    total_length = df['length'].sum()\n",
    "    objective_terms = []\n",
    "    for index, row in df.iterrows():\n",
    "        term_option2 = row['length'] * (row['option2_IRI'] <= 6) * section_choices[row['sectionID']]\n",
    "        term_option3 = row['length'] * (row['option3_IRI'] <= 6) * (1 - section_choices[row['sectionID']])\n",
    "        objective_terms.append(term_option2 + term_option3)\n",
    "\n",
    "    prob += lpSum(objective_terms) / total_length * 100\n",
    "\n",
    "    # National budget constraint\n",
    "    print(\"Applying national budget constraint...\")\n",
    "    national_budget_terms = []\n",
    "    for index, row in df.iterrows():\n",
    "        term = row['option2'] * section_choices[row['sectionID']] + row['option3'] * \\\n",
    "        (1 - section_choices[row['sectionID']])\n",
    "        national_budget_terms.append(term)\n",
    "    prob += lpSum(national_budget_terms) <= total_budget\n",
    "\n",
    "    # Provincial budget constraints\n",
    "    print(\"Applying provincial budget constraints...\")\n",
    "    for i, province in enumerate(budget_prov['prov']):\n",
    "        prov_df = df[df['prov'] == province]\n",
    "        prov_budget = budget_prov['budget'][i]\n",
    "        provincial_budget_terms = []\n",
    "        for index, row in prov_df.iterrows():\n",
    "            term = row['option2'] * section_choices[row['sectionID']] + row['option3'] * \\\n",
    "            (1 - section_choices[row['sectionID']])\n",
    "            provincial_budget_terms.append(term)\n",
    "        if budget_prov['sign'][i] == '<':\n",
    "            prob += lpSum(provincial_budget_terms) <= prov_budget\n",
    "        elif budget_prov['sign'][i] == '>':\n",
    "            prob += lpSum(provincial_budget_terms) >= prov_budget\n",
    "\n",
    "    # Provincial KPI constraints\n",
    "    print(\"Applying provincial KPI constraints...\")\n",
    "    for province in KPI_prov['prov']:\n",
    "        prov_df = df[df['prov'] == province]\n",
    "        prov_total_length = prov_df['length'].sum()\n",
    "        prov_KPI = KPI_prov['KPI'][KPI_prov['prov'].index(province)]\n",
    "        KPI_terms = []\n",
    "        for index, row in prov_df.iterrows():\n",
    "            term_option2 = row['length'] * (row['option2_IRI'] <= 6) * section_choices[row['sectionID']]\n",
    "            term_option3 = row['length'] * (row['option3_IRI'] <= 6) * (1 - section_choices[row['sectionID']])\n",
    "            KPI_terms.append(term_option2 + term_option3)\n",
    "        prob += lpSum(KPI_terms) / prov_total_length * 100 >= prov_KPI\n",
    "\n",
    "    # Solve the problem\n",
    "    print(\"Solving the problem...\")\n",
    "    prob.solve(solver=GUROBI(msg=True))\n",
    "\n",
    "    # Check the solution status and objective value\n",
    "    print(\"Solution Status:\", LpStatus[prob.status])\n",
    "    print(\"Objective Value:\", value(prob.objective))\n",
    "\n",
    "    if LpStatus[prob.status] == 'Optimal':\n",
    "        print(\"Optimal solution found. Extracting results...\")\n",
    "        results = []\n",
    "        for index, row in df.iterrows():\n",
    "            selected_option = 'option2' if section_choices[row['sectionID']].varValue == 1 else 'option3'\n",
    "            price = row['option2'] if selected_option == 'option2' else row['option3']\n",
    "            IRI = row['option2_IRI'] if selected_option == 'option2' else row['option3_IRI']\n",
    "            results.append({\n",
    "                \"sectionID\": row['sectionID'],\n",
    "                \"locFrom\": row['locFrom'],\n",
    "                \"locTo\": row['locTo'],\n",
    "                \"selected_option\": selected_option,\n",
    "                \"price\": price,\n",
    "                \"IRI\": IRI\n",
    "            })\n",
    "        return pd.DataFrame(results)\n",
    "    else:\n",
    "        print(\"No optimal solution found.\")\n",
    "        return None"
   ]
  },
  {
   "cell_type": "code",
   "execution_count": 257,
   "id": "ffd878e4",
   "metadata": {},
   "outputs": [
    {
     "name": "stdout",
     "output_type": "stream",
     "text": [
      "Setting up the problem...\n",
      "Configuring the objective function...\n",
      "Applying national budget constraint...\n",
      "Applying provincial budget constraints...\n",
      "Applying provincial KPI constraints...\n",
      "Solving the problem...\n",
      "Gurobi Optimizer version 11.0.0 build v11.0.0rc2 (win64 - Windows 11.0 (22621.2))\n",
      "\n",
      "CPU model: Intel(R) Core(TM) i7-10510U CPU @ 1.80GHz, instruction set [SSE2|AVX|AVX2]\n",
      "Thread count: 4 physical cores, 8 logical processors, using up to 8 threads\n",
      "\n",
      "Optimize a model with 7 rows, 538 columns and 1146 nonzeros\n",
      "Model fingerprint: 0xd3e2a491\n",
      "Variable types: 0 continuous, 538 integer (0 binary)\n",
      "Coefficient statistics:\n",
      "  Matrix range     [2e-03, 2e+07]\n",
      "  Objective range  [1e-03, 7e-01]\n",
      "  Bounds range     [1e+00, 1e+00]\n",
      "  RHS range        [1e+02, 6e+08]\n",
      "Found heuristic solution: objective -14.2622347\n",
      "Found heuristic solution: objective -14.2540159\n",
      "Presolve removed 6 rows and 358 columns\n",
      "Presolve time: 0.02s\n",
      "Presolved: 1 rows, 180 columns, 180 nonzeros\n",
      "Variable types: 0 continuous, 180 integer (150 binary)\n",
      "Found heuristic solution: objective -14.2141802\n",
      "\n",
      "Root relaxation: objective -1.419840e+01, 1 iterations, 0.01 seconds (0.00 work units)\n",
      "\n",
      "    Nodes    |    Current Node    |     Objective Bounds      |     Work\n",
      " Expl Unexpl |  Obj  Depth IntInf | Incumbent    BestBd   Gap | It/Node Time\n",
      "\n",
      "     0     0  -14.19840    0    1  -14.21418  -14.19840  0.11%     -    0s\n",
      "H    0     0                     -14.1984111  -14.19840  0.00%     -    0s\n",
      "\n",
      "Explored 1 nodes (1 simplex iterations) in 0.07 seconds (0.00 work units)\n",
      "Thread count was 8 (of 8 available processors)\n",
      "\n",
      "Solution count 4: -14.1984 -14.2142 -14.254 -14.2622 \n",
      "\n",
      "Optimal solution found (tolerance 1.00e-04)\n",
      "Best objective -1.419841105365e+01, best bound -1.419840449956e+01, gap 0.0000%\n",
      "Gurobi status= 2\n",
      "Solution Status: Optimal\n",
      "Objective Value: 85.80158894635088\n",
      "Optimal solution found. Extracting results...\n"
     ]
    }
   ],
   "source": [
    "# Exporting outcomes\n",
    "results = optimize_road_maintenance(df_segment, budget_nat, KPI_prov, budget_prov)"
   ]
  },
  {
   "cell_type": "code",
   "execution_count": 258,
   "id": "75dc19dc",
   "metadata": {},
   "outputs": [
    {
     "data": {
      "text/html": [
       "<div>\n",
       "<style scoped>\n",
       "    .dataframe tbody tr th:only-of-type {\n",
       "        vertical-align: middle;\n",
       "    }\n",
       "\n",
       "    .dataframe tbody tr th {\n",
       "        vertical-align: top;\n",
       "    }\n",
       "\n",
       "    .dataframe thead th {\n",
       "        text-align: right;\n",
       "    }\n",
       "</style>\n",
       "<table border=\"1\" class=\"dataframe\">\n",
       "  <thead>\n",
       "    <tr style=\"text-align: right;\">\n",
       "      <th></th>\n",
       "      <th>prov</th>\n",
       "      <th>sectionID</th>\n",
       "      <th>locFrom</th>\n",
       "      <th>locTo</th>\n",
       "      <th>info_IRIAvg</th>\n",
       "      <th>class</th>\n",
       "      <th>length</th>\n",
       "      <th>do_nothing</th>\n",
       "      <th>routine</th>\n",
       "      <th>periodical</th>\n",
       "      <th>...</th>\n",
       "      <th>weighted_IRI0</th>\n",
       "      <th>option1_IRI</th>\n",
       "      <th>weighted_IRI1</th>\n",
       "      <th>option2_IRI</th>\n",
       "      <th>weighted_IRI2</th>\n",
       "      <th>option3_IRI</th>\n",
       "      <th>weighted_IRI3</th>\n",
       "      <th>selected_option</th>\n",
       "      <th>price</th>\n",
       "      <th>IRI</th>\n",
       "    </tr>\n",
       "  </thead>\n",
       "  <tbody>\n",
       "    <tr>\n",
       "      <th>0</th>\n",
       "      <td>1</td>\n",
       "      <td>100100</td>\n",
       "      <td>0</td>\n",
       "      <td>100</td>\n",
       "      <td>3.4950</td>\n",
       "      <td>Good</td>\n",
       "      <td>100</td>\n",
       "      <td>10000</td>\n",
       "      <td>10000</td>\n",
       "      <td>0</td>\n",
       "      <td>...</td>\n",
       "      <td>349.50</td>\n",
       "      <td>3.873214</td>\n",
       "      <td>387.321429</td>\n",
       "      <td>3.873214</td>\n",
       "      <td>387.321429</td>\n",
       "      <td>3.873214</td>\n",
       "      <td>387.321429</td>\n",
       "      <td>option2</td>\n",
       "      <td>10000</td>\n",
       "      <td>3.873214</td>\n",
       "    </tr>\n",
       "    <tr>\n",
       "      <th>1</th>\n",
       "      <td>1</td>\n",
       "      <td>100100</td>\n",
       "      <td>100</td>\n",
       "      <td>200</td>\n",
       "      <td>3.6475</td>\n",
       "      <td>Good</td>\n",
       "      <td>100</td>\n",
       "      <td>10000</td>\n",
       "      <td>10000</td>\n",
       "      <td>0</td>\n",
       "      <td>...</td>\n",
       "      <td>364.75</td>\n",
       "      <td>4.036607</td>\n",
       "      <td>403.660714</td>\n",
       "      <td>4.036607</td>\n",
       "      <td>403.660714</td>\n",
       "      <td>4.036607</td>\n",
       "      <td>403.660714</td>\n",
       "      <td>option2</td>\n",
       "      <td>10000</td>\n",
       "      <td>4.036607</td>\n",
       "    </tr>\n",
       "    <tr>\n",
       "      <th>2</th>\n",
       "      <td>1</td>\n",
       "      <td>100100</td>\n",
       "      <td>200</td>\n",
       "      <td>300</td>\n",
       "      <td>3.8950</td>\n",
       "      <td>Good</td>\n",
       "      <td>100</td>\n",
       "      <td>10000</td>\n",
       "      <td>10000</td>\n",
       "      <td>0</td>\n",
       "      <td>...</td>\n",
       "      <td>389.50</td>\n",
       "      <td>4.301786</td>\n",
       "      <td>430.178571</td>\n",
       "      <td>4.301786</td>\n",
       "      <td>430.178571</td>\n",
       "      <td>4.301786</td>\n",
       "      <td>430.178571</td>\n",
       "      <td>option2</td>\n",
       "      <td>10000</td>\n",
       "      <td>4.301786</td>\n",
       "    </tr>\n",
       "    <tr>\n",
       "      <th>3</th>\n",
       "      <td>1</td>\n",
       "      <td>100100</td>\n",
       "      <td>300</td>\n",
       "      <td>400</td>\n",
       "      <td>4.0550</td>\n",
       "      <td>Fair</td>\n",
       "      <td>100</td>\n",
       "      <td>10000</td>\n",
       "      <td>0</td>\n",
       "      <td>20000</td>\n",
       "      <td>...</td>\n",
       "      <td>405.50</td>\n",
       "      <td>4.473214</td>\n",
       "      <td>447.321429</td>\n",
       "      <td>4.000000</td>\n",
       "      <td>400.000000</td>\n",
       "      <td>4.000000</td>\n",
       "      <td>400.000000</td>\n",
       "      <td>option2</td>\n",
       "      <td>20000</td>\n",
       "      <td>4.000000</td>\n",
       "    </tr>\n",
       "    <tr>\n",
       "      <th>4</th>\n",
       "      <td>1</td>\n",
       "      <td>100100</td>\n",
       "      <td>400</td>\n",
       "      <td>500</td>\n",
       "      <td>3.5300</td>\n",
       "      <td>Good</td>\n",
       "      <td>100</td>\n",
       "      <td>10000</td>\n",
       "      <td>10000</td>\n",
       "      <td>0</td>\n",
       "      <td>...</td>\n",
       "      <td>353.00</td>\n",
       "      <td>3.910714</td>\n",
       "      <td>391.071429</td>\n",
       "      <td>3.910714</td>\n",
       "      <td>391.071429</td>\n",
       "      <td>3.910714</td>\n",
       "      <td>391.071429</td>\n",
       "      <td>option2</td>\n",
       "      <td>10000</td>\n",
       "      <td>3.910714</td>\n",
       "    </tr>\n",
       "    <tr>\n",
       "      <th>...</th>\n",
       "      <td>...</td>\n",
       "      <td>...</td>\n",
       "      <td>...</td>\n",
       "      <td>...</td>\n",
       "      <td>...</td>\n",
       "      <td>...</td>\n",
       "      <td>...</td>\n",
       "      <td>...</td>\n",
       "      <td>...</td>\n",
       "      <td>...</td>\n",
       "      <td>...</td>\n",
       "      <td>...</td>\n",
       "      <td>...</td>\n",
       "      <td>...</td>\n",
       "      <td>...</td>\n",
       "      <td>...</td>\n",
       "      <td>...</td>\n",
       "      <td>...</td>\n",
       "      <td>...</td>\n",
       "      <td>...</td>\n",
       "      <td>...</td>\n",
       "    </tr>\n",
       "    <tr>\n",
       "      <th>50872</th>\n",
       "      <td>28</td>\n",
       "      <td>2813500</td>\n",
       "      <td>29900</td>\n",
       "      <td>30000</td>\n",
       "      <td>7.8200</td>\n",
       "      <td>Poor</td>\n",
       "      <td>100</td>\n",
       "      <td>10000</td>\n",
       "      <td>0</td>\n",
       "      <td>0</td>\n",
       "      <td>...</td>\n",
       "      <td>782.00</td>\n",
       "      <td>8.507143</td>\n",
       "      <td>850.714286</td>\n",
       "      <td>7.820000</td>\n",
       "      <td>782.000000</td>\n",
       "      <td>3.000000</td>\n",
       "      <td>300.000000</td>\n",
       "      <td>option2</td>\n",
       "      <td>30000</td>\n",
       "      <td>7.820000</td>\n",
       "    </tr>\n",
       "    <tr>\n",
       "      <th>50873</th>\n",
       "      <td>28</td>\n",
       "      <td>2813500</td>\n",
       "      <td>30000</td>\n",
       "      <td>30100</td>\n",
       "      <td>3.3900</td>\n",
       "      <td>Good</td>\n",
       "      <td>100</td>\n",
       "      <td>10000</td>\n",
       "      <td>10000</td>\n",
       "      <td>0</td>\n",
       "      <td>...</td>\n",
       "      <td>339.00</td>\n",
       "      <td>3.760714</td>\n",
       "      <td>376.071429</td>\n",
       "      <td>3.760714</td>\n",
       "      <td>376.071429</td>\n",
       "      <td>3.760714</td>\n",
       "      <td>376.071429</td>\n",
       "      <td>option2</td>\n",
       "      <td>10000</td>\n",
       "      <td>3.760714</td>\n",
       "    </tr>\n",
       "    <tr>\n",
       "      <th>50874</th>\n",
       "      <td>28</td>\n",
       "      <td>2813500</td>\n",
       "      <td>30100</td>\n",
       "      <td>30200</td>\n",
       "      <td>6.1100</td>\n",
       "      <td>Poor</td>\n",
       "      <td>100</td>\n",
       "      <td>10000</td>\n",
       "      <td>0</td>\n",
       "      <td>0</td>\n",
       "      <td>...</td>\n",
       "      <td>611.00</td>\n",
       "      <td>6.675000</td>\n",
       "      <td>667.500000</td>\n",
       "      <td>6.110000</td>\n",
       "      <td>611.000000</td>\n",
       "      <td>3.000000</td>\n",
       "      <td>300.000000</td>\n",
       "      <td>option2</td>\n",
       "      <td>30000</td>\n",
       "      <td>6.110000</td>\n",
       "    </tr>\n",
       "    <tr>\n",
       "      <th>50875</th>\n",
       "      <td>28</td>\n",
       "      <td>2813500</td>\n",
       "      <td>30200</td>\n",
       "      <td>30300</td>\n",
       "      <td>4.5000</td>\n",
       "      <td>Fair</td>\n",
       "      <td>100</td>\n",
       "      <td>10000</td>\n",
       "      <td>0</td>\n",
       "      <td>20000</td>\n",
       "      <td>...</td>\n",
       "      <td>450.00</td>\n",
       "      <td>4.950000</td>\n",
       "      <td>495.000000</td>\n",
       "      <td>4.000000</td>\n",
       "      <td>400.000000</td>\n",
       "      <td>4.000000</td>\n",
       "      <td>400.000000</td>\n",
       "      <td>option2</td>\n",
       "      <td>20000</td>\n",
       "      <td>4.000000</td>\n",
       "    </tr>\n",
       "    <tr>\n",
       "      <th>50876</th>\n",
       "      <td>28</td>\n",
       "      <td>2813500</td>\n",
       "      <td>30300</td>\n",
       "      <td>30400</td>\n",
       "      <td>4.5000</td>\n",
       "      <td>Fair</td>\n",
       "      <td>100</td>\n",
       "      <td>10000</td>\n",
       "      <td>0</td>\n",
       "      <td>20000</td>\n",
       "      <td>...</td>\n",
       "      <td>450.00</td>\n",
       "      <td>4.950000</td>\n",
       "      <td>495.000000</td>\n",
       "      <td>4.000000</td>\n",
       "      <td>400.000000</td>\n",
       "      <td>4.000000</td>\n",
       "      <td>400.000000</td>\n",
       "      <td>option2</td>\n",
       "      <td>20000</td>\n",
       "      <td>4.000000</td>\n",
       "    </tr>\n",
       "  </tbody>\n",
       "</table>\n",
       "<p>50877 rows × 26 columns</p>\n",
       "</div>"
      ],
      "text/plain": [
       "      prov  sectionID  locFrom  locTo  info_IRIAvg class  length  do_nothing  \\\n",
       "0        1     100100        0    100       3.4950  Good     100       10000   \n",
       "1        1     100100      100    200       3.6475  Good     100       10000   \n",
       "2        1     100100      200    300       3.8950  Good     100       10000   \n",
       "3        1     100100      300    400       4.0550  Fair     100       10000   \n",
       "4        1     100100      400    500       3.5300  Good     100       10000   \n",
       "...    ...        ...      ...    ...          ...   ...     ...         ...   \n",
       "50872   28    2813500    29900  30000       7.8200  Poor     100       10000   \n",
       "50873   28    2813500    30000  30100       3.3900  Good     100       10000   \n",
       "50874   28    2813500    30100  30200       6.1100  Poor     100       10000   \n",
       "50875   28    2813500    30200  30300       4.5000  Fair     100       10000   \n",
       "50876   28    2813500    30300  30400       4.5000  Fair     100       10000   \n",
       "\n",
       "       routine  periodical  ...  weighted_IRI0  option1_IRI  weighted_IRI1  \\\n",
       "0        10000           0  ...         349.50     3.873214     387.321429   \n",
       "1        10000           0  ...         364.75     4.036607     403.660714   \n",
       "2        10000           0  ...         389.50     4.301786     430.178571   \n",
       "3            0       20000  ...         405.50     4.473214     447.321429   \n",
       "4        10000           0  ...         353.00     3.910714     391.071429   \n",
       "...        ...         ...  ...            ...          ...            ...   \n",
       "50872        0           0  ...         782.00     8.507143     850.714286   \n",
       "50873    10000           0  ...         339.00     3.760714     376.071429   \n",
       "50874        0           0  ...         611.00     6.675000     667.500000   \n",
       "50875        0       20000  ...         450.00     4.950000     495.000000   \n",
       "50876        0       20000  ...         450.00     4.950000     495.000000   \n",
       "\n",
       "       option2_IRI  weighted_IRI2  option3_IRI  weighted_IRI3  \\\n",
       "0         3.873214     387.321429     3.873214     387.321429   \n",
       "1         4.036607     403.660714     4.036607     403.660714   \n",
       "2         4.301786     430.178571     4.301786     430.178571   \n",
       "3         4.000000     400.000000     4.000000     400.000000   \n",
       "4         3.910714     391.071429     3.910714     391.071429   \n",
       "...            ...            ...          ...            ...   \n",
       "50872     7.820000     782.000000     3.000000     300.000000   \n",
       "50873     3.760714     376.071429     3.760714     376.071429   \n",
       "50874     6.110000     611.000000     3.000000     300.000000   \n",
       "50875     4.000000     400.000000     4.000000     400.000000   \n",
       "50876     4.000000     400.000000     4.000000     400.000000   \n",
       "\n",
       "       selected_option  price       IRI  \n",
       "0              option2  10000  3.873214  \n",
       "1              option2  10000  4.036607  \n",
       "2              option2  10000  4.301786  \n",
       "3              option2  20000  4.000000  \n",
       "4              option2  10000  3.910714  \n",
       "...                ...    ...       ...  \n",
       "50872          option2  30000  7.820000  \n",
       "50873          option2  10000  3.760714  \n",
       "50874          option2  30000  6.110000  \n",
       "50875          option2  20000  4.000000  \n",
       "50876          option2  20000  4.000000  \n",
       "\n",
       "[50877 rows x 26 columns]"
      ]
     },
     "execution_count": 258,
     "metadata": {},
     "output_type": "execute_result"
    }
   ],
   "source": [
    "# Merge with df_segment\n",
    "df_results = pd.merge(df_segment, results, on=['sectionID', 'locFrom', 'locTo'], how='left')\n",
    "df_results"
   ]
  },
  {
   "cell_type": "markdown",
   "id": "ef52b7e1",
   "metadata": {},
   "source": [
    "## III. Results validation"
   ]
  },
  {
   "cell_type": "markdown",
   "id": "507ac527",
   "metadata": {},
   "source": [
    "### 1. Budget"
   ]
  },
  {
   "cell_type": "code",
   "execution_count": 259,
   "id": "72638824",
   "metadata": {
    "scrolled": true
   },
   "outputs": [],
   "source": [
    "# Costs prov\n",
    "Costs_prov_opt = df_results.groupby('prov')['price'].sum().reset_index()"
   ]
  },
  {
   "cell_type": "code",
   "execution_count": 260,
   "id": "80a68889",
   "metadata": {},
   "outputs": [],
   "source": [
    "# Costs at national level\n",
    "Costs_nat_opt = df_results['price'].sum()"
   ]
  },
  {
   "cell_type": "code",
   "execution_count": 261,
   "id": "ead58628",
   "metadata": {},
   "outputs": [],
   "source": [
    "# Combine Costs prov and nat\n",
    "Costs_prov_opt.loc[len(Costs_prov_opt)] = Costs_nat_opt\n",
    "Costs_prov_opt.iloc[-1,0] = 'All'\n",
    "Costs_prov_opt = Costs_prov_opt.rename(columns={'price': 'Costs'})"
   ]
  },
  {
   "cell_type": "code",
   "execution_count": 262,
   "id": "c4ab5ccf",
   "metadata": {
    "scrolled": false
   },
   "outputs": [
    {
     "data": {
      "text/html": [
       "<div>\n",
       "<style scoped>\n",
       "    .dataframe tbody tr th:only-of-type {\n",
       "        vertical-align: middle;\n",
       "    }\n",
       "\n",
       "    .dataframe tbody tr th {\n",
       "        vertical-align: top;\n",
       "    }\n",
       "\n",
       "    .dataframe thead th {\n",
       "        text-align: right;\n",
       "    }\n",
       "</style>\n",
       "<table border=\"1\" class=\"dataframe\">\n",
       "  <thead>\n",
       "    <tr style=\"text-align: right;\">\n",
       "      <th></th>\n",
       "      <th>prov</th>\n",
       "      <th>Costs</th>\n",
       "    </tr>\n",
       "  </thead>\n",
       "  <tbody>\n",
       "    <tr>\n",
       "      <th>0</th>\n",
       "      <td>1</td>\n",
       "      <td>349379000</td>\n",
       "    </tr>\n",
       "    <tr>\n",
       "      <th>1</th>\n",
       "      <td>16</td>\n",
       "      <td>76075700</td>\n",
       "    </tr>\n",
       "    <tr>\n",
       "      <th>2</th>\n",
       "      <td>28</td>\n",
       "      <td>404545200</td>\n",
       "    </tr>\n",
       "    <tr>\n",
       "      <th>3</th>\n",
       "      <td>All</td>\n",
       "      <td>829999900</td>\n",
       "    </tr>\n",
       "  </tbody>\n",
       "</table>\n",
       "</div>"
      ],
      "text/plain": [
       "  prov      Costs\n",
       "0    1  349379000\n",
       "1   16   76075700\n",
       "2   28  404545200\n",
       "3  All  829999900"
      ]
     },
     "execution_count": 262,
     "metadata": {},
     "output_type": "execute_result"
    }
   ],
   "source": [
    "Costs_prov_opt"
   ]
  },
  {
   "cell_type": "markdown",
   "id": "6052d7ce",
   "metadata": {},
   "source": [
    "### 2. KPI"
   ]
  },
  {
   "cell_type": "code",
   "execution_count": 263,
   "id": "4f4a242c",
   "metadata": {},
   "outputs": [],
   "source": [
    "# Filter KPI\n",
    "KPI_prov_opt = df_results.loc[df_results['IRI'] <= 6]\n",
    "\n",
    "# Sum length by prov\n",
    "KPI_prov_opt = KPI_prov_opt.groupby('prov')['length'].sum().reset_index()\n",
    "\n",
    "# Join total length\n",
    "KPI_prov_opt = pd.merge(KPI_prov_opt, df_prov, on='prov', how='inner')\n",
    "\n",
    "# Create KPI prov\n",
    "KPI_prov_opt['KPI'] = KPI_prov_opt['length']/KPI_prov_opt['tot_length']*100\n",
    "\n",
    "# KPI at national level\n",
    "KPI_nat_opt = ['All', KPI_prov_opt['length'].sum(), KPI_prov_opt['tot_length'].sum(), \\\n",
    "            KPI_prov_opt['length'].sum()/KPI_prov_opt['tot_length'].sum()*100]\n",
    "\n",
    "# Combine KPI prov and nat\n",
    "KPI_prov_opt.loc[len(KPI_prov_opt)] = KPI_nat_opt"
   ]
  },
  {
   "cell_type": "code",
   "execution_count": 264,
   "id": "73024967",
   "metadata": {
    "scrolled": true
   },
   "outputs": [
    {
     "data": {
      "text/html": [
       "<div>\n",
       "<style scoped>\n",
       "    .dataframe tbody tr th:only-of-type {\n",
       "        vertical-align: middle;\n",
       "    }\n",
       "\n",
       "    .dataframe tbody tr th {\n",
       "        vertical-align: top;\n",
       "    }\n",
       "\n",
       "    .dataframe thead th {\n",
       "        text-align: right;\n",
       "    }\n",
       "</style>\n",
       "<table border=\"1\" class=\"dataframe\">\n",
       "  <thead>\n",
       "    <tr style=\"text-align: right;\">\n",
       "      <th></th>\n",
       "      <th>prov</th>\n",
       "      <th>length</th>\n",
       "      <th>tot_length</th>\n",
       "      <th>KPI</th>\n",
       "    </tr>\n",
       "  </thead>\n",
       "  <tbody>\n",
       "    <tr>\n",
       "      <th>0</th>\n",
       "      <td>1</td>\n",
       "      <td>1772480</td>\n",
       "      <td>2116360</td>\n",
       "      <td>83.751347</td>\n",
       "    </tr>\n",
       "    <tr>\n",
       "      <th>1</th>\n",
       "      <td>16</td>\n",
       "      <td>583552</td>\n",
       "      <td>601023</td>\n",
       "      <td>97.093123</td>\n",
       "    </tr>\n",
       "    <tr>\n",
       "      <th>2</th>\n",
       "      <td>28</td>\n",
       "      <td>2007739</td>\n",
       "      <td>2368503</td>\n",
       "      <td>84.768269</td>\n",
       "    </tr>\n",
       "    <tr>\n",
       "      <th>3</th>\n",
       "      <td>All</td>\n",
       "      <td>4363771</td>\n",
       "      <td>5085886</td>\n",
       "      <td>85.801589</td>\n",
       "    </tr>\n",
       "  </tbody>\n",
       "</table>\n",
       "</div>"
      ],
      "text/plain": [
       "  prov   length  tot_length        KPI\n",
       "0    1  1772480     2116360  83.751347\n",
       "1   16   583552      601023  97.093123\n",
       "2   28  2007739     2368503  84.768269\n",
       "3  All  4363771     5085886  85.801589"
      ]
     },
     "execution_count": 264,
     "metadata": {},
     "output_type": "execute_result"
    }
   ],
   "source": [
    "KPI_prov_opt"
   ]
  },
  {
   "cell_type": "code",
   "execution_count": 265,
   "id": "3dacc551",
   "metadata": {},
   "outputs": [],
   "source": [
    "df_results.to_excel('output.xlsx', index=False)"
   ]
  },
  {
   "cell_type": "code",
   "execution_count": null,
   "id": "825f0151",
   "metadata": {},
   "outputs": [],
   "source": []
  },
  {
   "cell_type": "code",
   "execution_count": null,
   "id": "7a74f2f0",
   "metadata": {},
   "outputs": [],
   "source": []
  },
  {
   "cell_type": "code",
   "execution_count": null,
   "id": "dfa06d8a",
   "metadata": {},
   "outputs": [],
   "source": []
  }
 ],
 "metadata": {
  "kernelspec": {
   "display_name": "Python 3 (ipykernel)",
   "language": "python",
   "name": "python3"
  },
  "language_info": {
   "codemirror_mode": {
    "name": "ipython",
    "version": 3
   },
   "file_extension": ".py",
   "mimetype": "text/x-python",
   "name": "python",
   "nbconvert_exporter": "python",
   "pygments_lexer": "ipython3",
   "version": "3.11.5"
  }
 },
 "nbformat": 4,
 "nbformat_minor": 5
}
